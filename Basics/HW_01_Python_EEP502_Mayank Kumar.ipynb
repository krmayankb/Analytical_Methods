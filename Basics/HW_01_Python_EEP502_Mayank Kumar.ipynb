{
 "cells": [
  {
   "cell_type": "markdown",
   "metadata": {
    "ExecuteTime": {
     "end_time": "2019-09-24T16:05:23.746666Z",
     "start_time": "2019-09-24T16:05:23.741461Z"
    }
   },
   "source": [
    "EE 502 P: Analytical Methods for Electrical Engineering\n",
    "    \n",
    "# Homework 1: Python Setup\n",
    "## Due October 10, 2021 by 11:59 PM\n",
    "### <span style=\"color: red\">Mayank Kumar</span>\n",
    "\n",
    "\n",
    "Copyright &copy; 2021, University of Washington\n",
    "\n",
    "<hr>\n",
    "\n",
    "**Instructions**: Please use this notebook as a template. Answer all questions using well formatted Markdown with embedded LaTeX equations, executable Jupyter cells, or both. Submit your homework solutions as an `.ipynb` file via Canvas.\n",
    "\n",
    "<span style=\"color: red'\">\n",
    "Although you may discuss the homework with others, you must turn in your own, original work.\n",
    "</span>\n",
    "\n",
    "**Things to remember:**\n",
    "- Use complete sentences. Equations should appear in text as grammatical elements.\n",
    "- Comment your code.\n",
    "- Label your axes. Title your plots. Use legends where appropriate. \n",
    "- Before submitting a notebook, choose Kernel -> Restart and Run All to make sure your notebook runs when the cells are evaluated in order. \n",
    "\n",
    "Note : Late homework will be accepted up to one week after the due date and will be worth 50% of its full credit score. "
   ]
  },
  {
   "cell_type": "markdown",
   "metadata": {},
   "source": [
    "### 0. Warmup (Do not turn in)\n",
    "\n",
    "- Get Jupyter running on your computer, or learn to use Google Colab's Jupyter environment.\n",
    "- Make sure you can click through the Lecture 1 notes on Python. Try changing some of the cells to see the effects. \n",
    "- If you haven't done any Python, follow one of the links in Lecture 1 to a tutorial and work through it.\n",
    "- If you haven't done any Numpy or Sympy, read through the linked documentation and tutorials for those too."
   ]
  },
  {
   "cell_type": "markdown",
   "metadata": {},
   "source": [
    "### 1. Complex Numbers\n",
    "Write a function `rand_complex(n)` that returns a list of `n` random complex numbers uniformly distributed in the unit circle (i.e., the magnitudes of the numbers are all between 0 and 1). Give the function a docstring. Demonstrate the function by making a list of 25 complex numbers. "
   ]
  },
  {
   "cell_type": "code",
   "execution_count": 1,
   "metadata": {},
   "outputs": [
    {
     "data": {
      "text/plain": [
       "[(-0.23291727633158343-0.03223906965648793j),\n",
       " (0.1075264193171328-0.6287554693178661j),\n",
       " (-0.9648352685957642-0.09836768328893047j),\n",
       " (0.9729332666351493-0.07563889894437151j),\n",
       " (-0.31264579365485834-0.6952447113453855j),\n",
       " (-0.7543046289338111-0.2007322497775722j),\n",
       " (0.35390768875343515+0.24066078970197824j),\n",
       " (0.40023028389808935-0.4322478564776867j),\n",
       " (0.7575837355779895-0.42474223841029735j),\n",
       " (-0.017343727286792454-0.9318922926373809j),\n",
       " (0.9893226815073348-0.07429562306514148j),\n",
       " (-0.7557002838583444+0.5007781393244392j),\n",
       " (0.14229428659162435-0.05580365383869268j),\n",
       " (0.34332631754502363+0.7610185062340256j),\n",
       " (-0.6663127004466431-0.43778123350460907j),\n",
       " (0.698490378322481+0.33122161883243073j),\n",
       " (0.3875019475298742+0.5520329887602473j),\n",
       " (-0.7285191732411849+0.20066390378294496j),\n",
       " (-0.6876991691513978-0.10572637939038865j),\n",
       " (0.2895621483951627-0.14222573877072409j),\n",
       " (0.559677483878626+0.18654677359454308j),\n",
       " (0.8954820520485438-0.2273070618668761j),\n",
       " (0.4062147904057407+0.3113418259043812j),\n",
       " (0.5540089171896212-0.42022748042357205j),\n",
       " (-0.8270129193619533-0.27250082404388287j)]"
      ]
     },
     "execution_count": 1,
     "metadata": {},
     "output_type": "execute_result"
    }
   ],
   "source": [
    "def rand_complex(n):\n",
    "    \"\"\"\n",
    "\n",
    "    n : number of complex number to be generated \n",
    "    function during call imports random and numpy libraries for processing. \n",
    "    \n",
    "    This function prints the complex number uniformly distributed in the unit circle.  \n",
    "    \n",
    "    \"\"\"\n",
    "    import random        # import \"random\" library to generate random numbers. \n",
    "    import numpy as np   # import numpy to process mathematical expression\n",
    "\n",
    "    a = [ ]                    # declare an empty list\n",
    "    for i in range(n):\n",
    "        x = random.uniform(-1,1)    # generate random number between -1 and 1. \n",
    "        y = random.uniform(-(np.sqrt(1-(x*x))),np.sqrt(1-(x*x)))   # generating random value of y between -max and max.\n",
    "        # max implies corresponding point on the circle for with y will lie on the circle. \n",
    "        \n",
    "        a.append(complex(x,y)) # append complex number x+yj to the list a.\n",
    "         \n",
    "       # print(\"Complex %d: %f + %fj\" %(i+1,x, y))\n",
    "       # print(\"Value %d: %f\" %((i+1),np.sqrt(x*x+y*y)))\n",
    "    return a\n",
    "\n",
    "#function call for 25 complex numbers\n",
    "rand_complex(25)\n"
   ]
  },
  {
   "cell_type": "markdown",
   "metadata": {},
   "source": [
    "### 2. Hashes\n",
    "Write a function `to_hash(L) `that takes a list of complex numbers `L` and returns an array of hashes of equal length, where each hash is of the form `{ \"re\": a, \"im\": b }`. Give the function a docstring and test it by converting a list of 25 numbers generated by your `rand_complex` function. "
   ]
  },
  {
   "cell_type": "code",
   "execution_count": null,
   "metadata": {},
   "outputs": [],
   "source": [
    "def to_hash(L):\n",
    "    \"\"\"\n",
    "    L: It is a list of complex numbers. \n",
    "    \n",
    "    With a list as input, the function returns an array of hashes in form {\"re\": a, \"im\": b}\n",
    "    \"\"\"\n",
    "    b = [] #declare an empty list  \n",
    "    for i in range(len(L)): \n",
    "        x1 = L[i].real #extract real part of the (i)th value of list L  \n",
    "        y1 = L[i].imag #extract imaginary part of the (i)th value of list L\n",
    "        b.append({\"re\": x1, \"im\": y1}) #append the values in hash form. \n",
    "    \n",
    "    return b\n",
    "\n",
    "#function call using the function from Question 1. \n",
    "to_hash(rand_complex(25))\n",
    "\n",
    "#extra line of code to verify the outcome. \n",
    "#d = to_hash(rand_complex(25))\n",
    "#print(d[1])\n",
    "#d[1][\"re\"]\n"
   ]
  },
  {
   "cell_type": "markdown",
   "metadata": {},
   "source": [
    "### 3. Matrices\n",
    "\n",
    "Write a function `lower_traingular(n)` that returns an $n \\times n$ numpy matrix with zeros on the upper diagonal, and ones on the diagonal and lower diagonal. For example, `lower_triangular(3)` would return\n",
    "\n",
    "```python\n",
    "array([[1, 0, 0],\n",
    "       [1, 1, 0],\n",
    "       [1, 1, 1]])\n",
    "```"
   ]
  },
  {
   "cell_type": "code",
   "execution_count": 2,
   "metadata": {},
   "outputs": [
    {
     "name": "stdout",
     "output_type": "stream",
     "text": [
      "lower triangular matrix :\n"
     ]
    },
    {
     "data": {
      "text/plain": [
       "array([[1., 0., 0.],\n",
       "       [1., 1., 0.],\n",
       "       [1., 1., 1.]])"
      ]
     },
     "execution_count": 2,
     "metadata": {},
     "output_type": "execute_result"
    }
   ],
   "source": [
    "import numpy as np # variable np is used inside the function to generate array.\n",
    "\n",
    "#function defination starts here. \n",
    "def lower_triangular(n):\n",
    "    \"\"\"\n",
    "    \n",
    "    function takes integer n as input and returns lower triangular matrix of dimension nxn.\n",
    "    import module \"numpy as np\" to use this function without any errors.\n",
    "    \n",
    "    \"\"\"\n",
    "    c = np.ones(n*n)      # create an array of nxn elements with value = 1. \n",
    "    c = c.reshape (n,n)   # Reshape the array to a matrix of dimension nxn. \n",
    "    \n",
    "    for i in range (n):\n",
    "        for j in range (n):\n",
    "            if j > i:        # checks for the elements where we have to change it to zero. \n",
    "                c[i][j] = 0  # Replace the elements in upper triangle other than diagonal elements with 0. \n",
    "                \n",
    "    return c\n",
    "print(\"lower triangular matrix :\")\n",
    "lower_triangular(3)"
   ]
  },
  {
   "cell_type": "markdown",
   "metadata": {},
   "source": [
    "### 4. Numpy\n",
    "\n",
    "Write a function `convolve(M,K)` that takes an $n \\times m$ matrix $M$ and a $3 \\times 3$ matrix $K$ (called the kernel) and returns their convolution as in [this diagram](https://encrypted-tbn0.gstatic.com/images?q=tbn:ANd9GcTYo2_VuAlQhfeEGJHva3WUlnSJLeE0ApYyjw&usqp=CAU).\n",
    "\n",
    "\n",
    "Please do not use any predefined convolution functions from numpy or scipy. Write your own. If the matrix $M$ is too small, your function should return a exception.\n",
    "\n",
    "You can read more about convolution in [this post](https://setosa.io/ev/image-kernels/).\n",
    "\n",
    "The matrix returned will have two fewer rows and two fewer columns than $M$. Test your function by making a $100 \\times 100$ matrix of zeros and ones that as an image look like the letter X and convolve it with the kernel\n",
    "\n",
    "$$\n",
    "K = \\frac{1}{16} \\begin{pmatrix}\n",
    "1 & 2 & 1 \\\\\n",
    "2 & 4 & 2 \\\\\n",
    "1 & 2 & 1\n",
    "\\end{pmatrix}\n",
    "$$\n",
    "\n",
    "Use `imshow` to display both images using subplots. "
   ]
  },
  {
   "cell_type": "code",
   "execution_count": 1,
   "metadata": {},
   "outputs": [
    {
     "data": {
      "text/plain": [
       "Text(0.5, 1.0, 'Output')"
      ]
     },
     "execution_count": 1,
     "metadata": {},
     "output_type": "execute_result"
    },
    {
     "data": {
      "image/png": "[encoded data removed]",
      "text/plain": [
       "<Figure size 576x576 with 2 Axes>"
      ]
     },
     "metadata": {
      "needs_background": "light"
     },
     "output_type": "display_data"
    }
   ],
   "source": [
    "# import numpy as np #import numpy library into variable np\n",
    "\n",
    "import numpy as np\n",
    "import matplotlib.pyplot as plt\n",
    "%matplotlib inline \n",
    "\n",
    "\n",
    "#define kernel\n",
    "K = np.array ([[1,2,1],\n",
    "               [2,4,2],\n",
    "               [1,2,1]])\n",
    "\n",
    "K = K/16 # divide all elements of matrix by 16.\n",
    "\n",
    "#create image for testing as per the question \n",
    "m = 100\n",
    "n = 100\n",
    "im = np.ones(m*n)     #created an array of length mn.\n",
    "im = im.reshape(m,n)  #reshaped the array in matrix of dimension mxn.\n",
    "\n",
    "\n",
    "#creating image in form X. \n",
    "for i in range (m): \n",
    "    for j in range (n): \n",
    "        if ((i==j) or (i+j == n-1)):    #select all the elements where manipulation is required.\n",
    "            im[i][j] = 0                #replace 1 with 0 at all the locations selected above. \n",
    "  \n",
    "\n",
    "fig = plt.figure(figsize = (8,8))       #define figure size \n",
    "fig.add_subplot(1,2,1)                  #add a subplot to the figure \n",
    "plt.imshow(im)                          #show input image which was created earlier.\n",
    "plt.axis('off')                         #axis are turned off \n",
    "plt.title(\"Original\")                   #adding title to the image\n",
    "\n",
    "\n",
    "#function defination starts here \n",
    "def convolve (M,K):\n",
    "    \"\"\"\n",
    "    function take two inputs. \n",
    "    M: it is the original image on which convolution should be performed. \n",
    "    K: it is the kernel which will be applied to the input matrix. \n",
    "    \n",
    "    it returns matrix with (m-2) x (n-2)\n",
    "    \"\"\"\n",
    "    im_out = np.zeros(M.shape[0]* M.shape[1]).reshape(M.shape[0], M.shape[1]) #declare a matrix with same dimension as M\n",
    "    \n",
    "    \n",
    "    \n",
    "    if (M.shape[0] < 3 or M.shape[1] < 3): #raising exception for the matrices with either if dimensions < 3. \n",
    "        raise Exception(\"Convolution of matrix M can't be calculated. Check input matrix for dimension.\")\n",
    "    else: \n",
    "        for i in range(1, M.shape[0]-1):\n",
    "            for j in range(1, M.shape[1]-1):\n",
    "                im_out[i][j] = np.sum(K * M[(i-1):(i+2),(j-1):(j+2)]) #performing sum on matrix multiplication with kernal and current pixels of the image. \n",
    "                if (im_out[i][j]) > 255:  #checking for the pixels which get more than 255. \n",
    "                    im_out[i][j] = 255\n",
    "                elif (im_out[i][j] < 0):  #checking for the pixels which get less than 0. \n",
    "                    im_out[i][j] = 0\n",
    "     \n",
    "    \n",
    "    im_out = im_out[1:(M.shape[0]-1),1:(M.shape[1]-1)] #removed the blank pixels where convolution was not possible.\n",
    "    return im_out\n",
    "\n",
    "out_image = convolve(im,K)              #function call, output is saved for further usage \n",
    "#print(len(out_image[0]))\n",
    "\n",
    "fig.add_subplot(1,2,2)                  #add a subplot to the figure \n",
    "plt.imshow(out_image)                   #Show the output image to the location \n",
    "plt.axis('off')                         #axis is turned off as it is not required\n",
    "plt.title(\"Output\")                     #adding title to the output image\n"
   ]
  },
  {
   "cell_type": "markdown",
   "metadata": {},
   "source": [
    "### 5. Symbolic Manipulation\n",
    "\n",
    "Use sympy to specify and solve the following equations for $x$.\n",
    "\n",
    "- $x^2 + 2x - 1 = 0$ \n",
    "- $a x^2 + bx + c = 0$\n",
    "\n",
    "Also, evaluate the following integrals using sympy\n",
    "\n",
    "- $\\int x^2 dx$\n",
    "- $\\int x e^{6x} dx$\n",
    "- $\\int (3t+5)\\cos(\\frac{t}{4}) dt$"
   ]
  },
  {
   "cell_type": "code",
   "execution_count": null,
   "metadata": {},
   "outputs": [],
   "source": [
    "#Importing related libraries \n",
    "import math \n",
    "from sympy import * \n",
    "init_printing(use_latex='mathjax')\n",
    "\n",
    "#solving First equation i.e., x^2 + 2x - 1 = 0\n",
    "x = symbols(\"x\")\n",
    "expr_1 = (x**2) + (2*x) - 1\n",
    "result_1 = solve(expr_1,x)\n",
    "print(\"solution of equation x^2 + 2x - 1 = 0 is :\")\n",
    "result_1"
   ]
  },
  {
   "cell_type": "code",
   "execution_count": 10,
   "metadata": {},
   "outputs": [
    {
     "name": "stdout",
     "output_type": "stream",
     "text": [
      "solution of equation ax^2 + bx + c = 0 is : \n"
     ]
    },
    {
     "data": {
      "text/latex": [
       "$\\displaystyle \\left[ \\frac{- b + \\sqrt{- 4 a c + b^{2}}}{2 a}, \\  - \\frac{b + \\sqrt{- 4 a c + b^{2}}}{2 a}\\right]$"
      ],
      "text/plain": [
       "⎡        _____________   ⎛       _____________⎞ ⎤\n",
       "⎢       ╱           2    ⎜      ╱           2 ⎟ ⎥\n",
       "⎢-b + ╲╱  -4⋅a⋅c + b    -⎝b + ╲╱  -4⋅a⋅c + b  ⎠ ⎥\n",
       "⎢─────────────────────, ────────────────────────⎥\n",
       "⎣         2⋅a                     2⋅a           ⎦"
      ]
     },
     "execution_count": 10,
     "metadata": {},
     "output_type": "execute_result"
    }
   ],
   "source": [
    "#solving second equation i.e., ax^2 + bx + c = 0\n",
    "a,b,c = symbols(\"a b c\")\n",
    "x = symbols(\"x\")\n",
    "expr_2 = (a*(x**2)) + b*x + c \n",
    "result_2 = solve(expr_2,x)\n",
    "print(\"solution of equation ax^2 + bx + c = 0 is : \" )\n",
    "result_2"
   ]
  },
  {
   "cell_type": "code",
   "execution_count": null,
   "metadata": {},
   "outputs": [],
   "source": [
    "#evaluating integral 1 \n",
    "x = symbols(\"x\")\n",
    "expr_3 = x**2\n",
    "integrate(expr_3,x)"
   ]
  },
  {
   "cell_type": "code",
   "execution_count": null,
   "metadata": {},
   "outputs": [],
   "source": [
    "#evaluating integral 2 \n",
    "x = symbols(\"x\")\n",
    "expr_4 = x * exp(6*x)\n",
    "integrate(expr_4)"
   ]
  },
  {
   "cell_type": "code",
   "execution_count": null,
   "metadata": {},
   "outputs": [],
   "source": [
    "#evaluating integral 3 \n",
    "t = symbols(\"t\")\n",
    "expr_5 = ((3*t) + 5) * cos(t/4)\n",
    "integrate(expr_5)"
   ]
  },
  {
   "cell_type": "markdown",
   "metadata": {},
   "source": [
    "### 6. Typesetting\n",
    "\n",
    "Use LaTeX to typeset the following equations.\n",
    "\n",
    "<img src=\"https://www.sciencealert.com/images/Equations_web.jpg\">\n"
   ]
  },
  {
   "cell_type": "markdown",
   "metadata": {},
   "source": [
    "## 17 Equations that changed the world\n",
    "###   by Ian Stewart\n",
    "#### Typesetting starts Now \n",
    "---\n",
    "**1. Pythagoras theorm:**\n",
    "\\begin{align}\n",
    "a^2 + b^2 = c^2\n",
    "\\end{align}\n",
    "___\n",
    "**2. Logrithms:** \n",
    "\\begin{align}\n",
    "\\log xy = \\log x +\\log y\n",
    "\\end{align} \n",
    "___\n",
    "\n",
    "**3. Calculus:** \n",
    "\\begin{align}\n",
    "\\frac{df}{dt} = \\lim_{h \\rightarrow 0} \\frac {f(t+h) - f(t)}{f(h)}\n",
    "\\end{align}\n",
    "I have made some modification in the formula written above. as it was not conveying intended meaning. \n",
    "___\n",
    "\n",
    "**4. Law of Gravity:**\n",
    "\\begin{align}\n",
    "F = G\\frac{m_1 m_2}{r^2}\n",
    "\\end{align}\n",
    "___\n",
    "\n",
    "**5. Square root of minus one**\n",
    "\\begin{align}\n",
    "i^2 = -1\n",
    "\\end{align}\n",
    "___\n",
    "\n",
    "\n",
    "**6. The Euler's formula for polyhedra**\n",
    "\\begin{align}\n",
    "V - E + F = 2\n",
    "\\end{align}\n",
    "___\n",
    "\n",
    "**7. Normal Distribution** \n",
    "\\begin{align}\n",
    "\\phi(x) = \\frac {1}{\\sqrt{2\\pi\\rho}} e^\\frac{(x-\\mu)^2}{2\\rho^2}\n",
    "\\end{align}\n",
    "___\n",
    "\n",
    "**8. Wave Equation** \n",
    "\\begin{align}\n",
    "\\frac{\\partial^2 u}{\\partial t^2} = c^2\\frac{\\partial^2 u}{\\partial x^2}\n",
    "\\end{align}\n",
    "___\n",
    "\n",
    "**9. Fourier Transform** \n",
    "\\begin{align}\n",
    "f(w) = \\int_{-\\infty}^{\\infty} f(x)e^{-2\\pi i x w} dx\n",
    "\\end{align}\n",
    "___\n",
    "\n",
    "**10. Navier-Stokes Equation**\n",
    "\\begin{align}\n",
    "\\rho(\\frac{\\partial v}{\\partial t} + v.\\nabla v ) = - \\nabla p + \\nabla.T + f\n",
    "\\end{align}\n",
    "___\n",
    "\n",
    "**11. Maxwell's Equation**\n",
    "\\begin{align}\n",
    "\\nabla . E = 0 \\hspace{50 pt}\\nabla.H = 0 \\\\\n",
    "\\nabla \\times E = -\\frac{1}{c} \\frac{\\partial H}{\\partial t} \\hspace{30 pt}\\nabla \\times H = \\frac{1}{c} \\frac{\\partial E}{\\partial t}\n",
    "\\end{align}\n",
    "___\n",
    "\n",
    "**12. Second Law of Thermodynamics**\n",
    "\\begin{align}\n",
    "dS \\geq 0\n",
    "\\end{align}\n",
    "___\n",
    "\n",
    "**13. Relativity** \n",
    "\\begin{align}\n",
    "E = mc^2\n",
    "\\end{align}\n",
    "___\n",
    "\n",
    "**14. Schrodinger's Equation** \n",
    "\\begin{align}\n",
    "i\\hbar \\frac{\\partial}{\\partial t} \\Psi = H \\Psi\n",
    "\\end{align}\n",
    "___\n",
    "\n",
    "**15. Information Theory**\n",
    "\\begin{align}\n",
    "H = -\\sum p(x)\\log p(x)\n",
    "\\end{align}\n",
    "___\n",
    "\n",
    "**16. Chaos Theory** \n",
    "\\begin{align}\n",
    "x_{t + 1} = k x_t(1 - x_t)\n",
    "\\end{align}\n",
    "___\n",
    "\n",
    "**17.Black-Scholes Equation** \n",
    "\n",
    "\\begin{align}\n",
    "\\frac{1}{2}\\sigma S^2 \\frac{\\partial^2 V}{\\partial S^2} + r S \\frac{\\partial V}{\\partial S} + \\frac{\\partial V}{\\partial t} - r V = 0\n",
    "\\end{align}\n",
    "___\n"
   ]
  },
  {
   "cell_type": "code",
   "execution_count": null,
   "metadata": {},
   "outputs": [],
   "source": []
  }
 ],
 "metadata": {
  "kernelspec": {
   "display_name": "Python 3 (ipykernel)",
   "language": "python",
   "name": "python3"
  },
  "language_info": {
   "codemirror_mode": {
    "name": "ipython",
    "version": 3
   },
   "file_extension": ".py",
   "mimetype": "text/x-python",
   "name": "python",
   "nbconvert_exporter": "python",
   "pygments_lexer": "ipython3",
   "version": "3.8.8"
  }
 },
 "nbformat": 4,
 "nbformat_minor": 2
}
