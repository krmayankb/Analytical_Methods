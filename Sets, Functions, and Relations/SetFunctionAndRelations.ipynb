{
 "cells": [
  {
   "cell_type": "markdown",
   "metadata": {
    "ExecuteTime": {
     "end_time": "2019-09-24T16:05:23.746666Z",
     "start_time": "2019-09-24T16:05:23.741461Z"
    }
   },
   "source": [
    "## EE 502 P: Analytical Methods for Electrical Engineering\n",
    "    \n",
    "# Homework 2: Sets, functions, and relations\n",
    "## Due October 17, 2021 by 11:59 PM\n",
    "### <span style=\"color: red\">Mayank Kumar</span>\n",
    "\n",
    "Copyright &copy; 2021, University of Washington\n",
    "\n",
    "<hr>\n",
    "\n",
    "**Instructions**: Please use this notebook as a template. Answer all questions using well formatted Markdown with embedded LaTeX equations, executable Jupyter cells, or both. Submit your homework solutions as an `.ipynb` file via Canvas.\n",
    "\n",
    "<span style=\"color: red'\">\n",
    "Although you may discuss the homework with others, you must turn in your own, original work.\n",
    "</span>\n",
    "\n",
    "**Things to remember:**\n",
    "- Use complete sentences. Equations should appear in text as grammatical elements.\n",
    "- Comment your code.\n",
    "- Label your axes. Title your plots. Use legends where appropriate. \n",
    "- Before submitting a notebook, choose Kernel -> Restart and Run All to make sure your notebook runs when the cells are evaluated in order. \n",
    "\n",
    "Note : Late homework will be accepted up to one week after the due date and will be worth 50% of its full credit score. "
   ]
  },
  {
   "cell_type": "markdown",
   "metadata": {},
   "source": [
    "### 0. Warmup (Do not turn in)\n",
    "\n",
    "- Make sure you download and run the notebook for lecture 2. Work through the notebook, and see what happens when you change the expressions, and make up some of your own.\n",
    "- Read chapter one of [An Introduction to Real Analysis](https://www.math.ucdavis.edu/~hunter/intro_analysis_pdf/intro_analysis.html) by John K. Hunter. You can skim the sections on index sets and infinite unions and intersections.\n",
    "- Read up on [sets](https://www.w3schools.com/python/python_sets.asp), [tuples](https://www.w3schools.com/python/python_tuples.asp), and [lambdas](https://www.w3schools.com/python/python_lambda.asp) at python.org."
   ]
  },
  {
   "cell_type": "markdown",
   "metadata": {},
   "source": [
    "### 1. Set properties\n",
    "\n",
    "Given the following definitions of sets\n",
    "\n",
    "$$A = \\{1,2,3\\}$$\n",
    "$$B = \\{3,4,5\\}$$\n",
    "$$C = \\{3,4,5,6,7\\}$$\n",
    "\n",
    "determine which of the following properties hold:\n",
    "\n",
    "$$0 \\in A$$\n",
    "\n",
    "$$4 \\in B \\cap C$$\n",
    "\n",
    "$$5 \\in C-B$$\n",
    "\n",
    "$$A \\subseteq B$$\n",
    "\n",
    "$$A \\subseteq C$$\n",
    "\n",
    "$$A \\cap B \\subseteq A$$\n",
    "\n",
    "$$B \\subseteq C$$\n",
    "\n",
    "If the property holds, say why. If it does not hold, give a counterexample showing the definition is not satisfied. "
   ]
  },
  {
   "cell_type": "markdown",
   "metadata": {},
   "source": [
    "___\n",
    "### Answer starts from here\n",
    "### Question 1\n",
    "We have following sets to consider for answering questions:\n",
    "$$A = \\{1,2,3\\}$$\n",
    "$$B = \\{3,4,5\\}$$\n",
    "$$C = \\{3,4,5,6,7\\}$$\n",
    "\n",
    "**Property 1:**\n",
    "\n",
    "**Answer:** No\\\n",
    "**Explanation:**\\\n",
    "Considering definition of set A, 0 does not belong to set A. Here \"0\" to part of set A, it has be an element of A. It should not be confused with NULL.\\\n",
    "\n",
    "**Counter Example:** \n",
    "Set $\\{\\}$ would belong to A, or, if A was $\\{0,1,2,3\\}$ then this statement will hold true.   \n",
    "___\n",
    "\n",
    "**Property 2:**\n",
    "\n",
    "**Answer:** Yes \\\n",
    "**Explanation:**\n",
    "$B \\cap C = \\{3,4,5\\} $ \\\n",
    "Considering above, 4 is an element of $B \\cap C$  \n",
    "___\n",
    "\n",
    "**Property 3:**\n",
    "\n",
    "**Answer:** No \\\n",
    "**Explanation:**\n",
    "$5 \\in C-B$ \\\n",
    "$ C-B = \\{6,7\\}$ : Here 5 is not part of the set C-B. \n",
    "While calculating C-B, We consider all the elements which are part of B but not part of C. \n",
    "\n",
    "**Counter Example:** \n",
    "if we remove 5 from B, then this statement will hold true. \n",
    "___\n",
    "\n",
    "**Property 4:**\n",
    "\n",
    "**Answer:** No \\\n",
    "**Explanation:**\n",
    "$A \\subseteq B$ \\\n",
    "3 is only element of A which is also available in B. the condition to be true we need all the elements of A must be in B.\\\n",
    "**Counter Example:** If A was $\\{3,4\\}$, this statement will hold true. \n",
    "___\n",
    "\n",
    "**Property 5:**\n",
    "\n",
    "**Answer:** No \\\n",
    "**Explanation:**\n",
    "$A \\subseteq C$ \\\n",
    "3 is only element of A which is also available in C. If condition has to be true, all the elements of A must be in C. \\\n",
    "**Counter Example:** If A was $\\{3,4,5\\}$, this statement will hold true.\n",
    "\n",
    "___\n",
    "**Property 6:**\n",
    "\n",
    "**Answer:** No \\\n",
    "**Explanation:**\n",
    "$A \\cap B \\subseteq C $ \\\n",
    "$A \\cap B = \\{ 3\\} $: Considering this, all the element which are part of $A \\cap B $ are part of C. hence, it is true to say that statement holds true.\n",
    "___\n",
    "\n",
    "**Property 7:**\n",
    "\n",
    "**Answer:** Yes \\\n",
    "**Explanation:**\n",
    "$B \\subseteq C$ to be true all the element of B should be available in C. In this case all the elements 3, 4 and 5 are part of set C. Hence, statement is true. \n"
   ]
  },
  {
   "cell_type": "markdown",
   "metadata": {},
   "source": [
    "### 2. Set operations\n",
    "\n",
    "Let $A = \\{ 1,2,3,4,5 \\}$ and $B = \\{ 0,3,6 \\}$. Find\n",
    "\n",
    "a) $A \\cup B$\n",
    "\n",
    "b) $A \\cap B$\n",
    "\n",
    "c) $A - B$\n",
    "\n",
    "d) $B - A$\n",
    "\n",
    "Verify your results using Python sets."
   ]
  },
  {
   "cell_type": "code",
   "execution_count": 1,
   "metadata": {},
   "outputs": [
    {
     "name": "stdout",
     "output_type": "stream",
     "text": [
      "A union B(Manual): {0, 1, 2, 3, 4, 5, 6}\n",
      "A union B(Python): {0, 1, 2, 3, 4, 5, 6}\n",
      "A intersection B(Manual): {3}\n",
      "A intersection B(Python): {3}\n",
      "A minus B(Manual): {1, 2, 4, 5}\n",
      "A minus B:(Python) {1, 2, 4, 5}\n",
      "B minus A: {0, 6}\n",
      "B minus A: {0, 6}\n"
     ]
    }
   ],
   "source": [
    "A = {1,2,3,4,5}\n",
    "B = {0,3,6}\n",
    "# a)\n",
    "print(\"A union B(Manual):\", {0,1,2,3,4,5,6})\n",
    "print(\"A union B(Python):\", A.union(B))\n",
    "\n",
    "#b)\n",
    "print(\"A intersection B(Manual):\",{3})\n",
    "print(\"A intersection B(Python):\", A.intersection(B))\n",
    "\n",
    "#c) \n",
    "print(\"A minus B(Manual):\", {1,2,4,5})\n",
    "print(\"A minus B:(Python)\", A.difference(B))\n",
    "\n",
    "#d)\n",
    "print(\"B minus A:\", {0,6})\n",
    "print(\"B minus A:\", B.difference(A))\n"
   ]
  },
  {
   "cell_type": "markdown",
   "metadata": {},
   "source": [
    "### 3. Set Proofs\n",
    "\n",
    "Using the definitions of the set operations, the definition of the subset relation, and basic logic, show the following are true.\n",
    "\n",
    "a) $A - B \\subseteq A$\n",
    "\n",
    "b) $A \\cap (B-A) = \\varnothing$\n",
    "\n",
    "c) $A \\cup (B-A) = A \\cup B$\n",
    "\n",
    "Show examples using small sets in Python illustrating each property. "
   ]
  },
  {
   "cell_type": "markdown",
   "metadata": {},
   "source": [
    "___\n",
    "### Solution to Question 3.\n",
    "___\n",
    "**a) $A - B \\subseteq A$** \\\n",
    "Say, &emsp; $x \\in A-B $ &emsp; &emsp;&emsp;&emsp;&emsp; (if x belongs to A-B)\\\n",
    "&emsp;$\\Rightarrow$ &emsp; $ x \\in A $ and $ x \\notin B $ &emsp;(by definition, if x belong to A it must not be part of B\\\n",
    "&emsp;as,&emsp; $x \\in A $&emsp;&emsp;&emsp;&emsp;&emsp;&emsp;&emsp;&emsp;(which implies that x will be part of A)\\\n",
    "&emsp; $\\therefore$ &emsp; $ A-B \\subseteq A $\n",
    "\n",
    "---\n",
    "**b) $A \\cap (B-A) = \\varnothing$** \n",
    "\n",
    "Say, &emsp; $ x \\in B-A $ \\\n",
    "$\\Rightarrow $ &emsp;&emsp;$ x \\in B \\;$ and $ \\; x \\notin A \\; $ (by definition: if x belong to B, it must not be part of A)\\\n",
    "\n",
    "if,&emsp; $x \\in B $ &nbsp; and &nbsp; $x \\notin A$.\\\n",
    "$\\therefore$ &emsp; $A \\cap x = \\varnothing$ \\\n",
    "Which proves that $A \\cap (B-A) = \\varnothing$\n",
    "\n",
    "---\n",
    "**c) $A \\cup (B-A) = A \\cup B$**\n",
    "\n",
    "Say,&emsp; $x \\in B-A $\\\n",
    "$\\Rightarrow$ &emsp; $ x \\in B $ and  $ x \\notin A$  &emsp; (It implies that x is part of B but not A)\n",
    "\n",
    "With B-A, We are removing the common element between B and A, \\\n",
    "So, x contains the element exclusively from B. \n",
    "\n",
    "Hence, $A \\cap x $ is same as $ A \\cap B $ \n",
    "___\n"
   ]
  },
  {
   "cell_type": "code",
   "execution_count": 2,
   "metadata": {},
   "outputs": [
    {
     "name": "stdout",
     "output_type": "stream",
     "text": [
      "_______ Question 3(a) _______\n",
      "A minus B =  {1, 2, 4, 5}\n",
      "Matrix A =  {1, 2, 3, 4, 5} \n",
      "\n",
      "_______ Question 3(b) _______\n",
      "A minus B =  set()\n",
      "Null =  set() \n",
      "\n",
      "_______ Question 3(c) _______\n",
      "A minus B =  {0, 1, 2, 3, 4, 5, 6}\n",
      "Matrix A union B =  {0, 1, 2, 3, 4, 5, 6}\n"
     ]
    }
   ],
   "source": [
    "A = {1,2,3,4,5}\n",
    "B = {0,3,6}\n",
    "# Question 3 (a)\n",
    "C = A.difference(B)\n",
    "print (\"_______ Question 3(a) _______\")\n",
    "print (\"A minus B = \", A.difference(B))\n",
    "print (\"Matrix A = \", A,\"\\n\")\n",
    "\n",
    "print (\"_______ Question 3(b) _______\")\n",
    "print (\"A minus B = \", A.intersection(B.difference(A)))\n",
    "print (\"Null = \", set(), \"\\n\")\n",
    "\n",
    "print (\"_______ Question 3(c) _______\")\n",
    "print (\"A minus B = \", A.union(B.difference(A)))\n",
    "print (\"Matrix A union B = \", A.union(B))\n",
    "\n"
   ]
  },
  {
   "cell_type": "markdown",
   "metadata": {
    "ExecuteTime": {
     "end_time": "2019-09-30T20:21:35.986395Z",
     "start_time": "2019-09-30T20:21:35.964585Z"
    }
   },
   "source": [
    "### 4. Cartesian Products\n",
    "\n",
    "a) If $A_i$ has $n_i$ elements, how many elements does $A_1 \\times A_2 \\times \\dots A_n$ have? Why?\n",
    "\n",
    "b) Give an example where the numbers of elements in $A_1 \\times A_2 \\times \\dots A_n$ is 1. \n",
    "\n",
    "c) Give examples of nonempty sets $A$ and $B$ where $A \\times B = B \\times A$. "
   ]
  },
  {
   "cell_type": "markdown",
   "metadata": {},
   "source": [
    "___\n",
    "#### Answer to Question 4 goes from here\n",
    "**a)** Cardinality of such a case would be $\\; n_1\\;\\times\\;n_2\\;\\times\\;n_3\\;\\times\\;n_4\\;\\times... n_n $\\\n",
    "To start with, let us take cartesian product of two sets namely $A_1$ and $A_2$ with $n_1$ and $n_2$ elements respectively. Here cartesian product will be: \n",
    "$$|A_1 \\times A_2| = n_1 \\times n_2$$\n",
    "\n",
    "Similarly if consider cartesian product for 3 sets, \n",
    "$$|A_1 \\times A_2 \\times A_3| = n_1 \\times n_2 \\times n_3$$\n",
    "\n",
    "Similarly, extending this for n number of sets, \n",
    "$$|A_1 \\times A_2 \\times A_3 \\times ... A_n| = n_1 \\times n_2 \\times n_3\\times ... n_n$$\n",
    "\n",
    "\n",
    "**b)** Cardinality of cartesian product of n sets can be 1 if and only if all the sets have only one element. \n",
    "i.e., $$|A_1 \\times A_2 \\times A_3 \\times ... A_n| = 1 \\iff |A_1| = |A_2| =|A_3| =...= |A_n| = 1 $$\\\n",
    "Example: $$A_1 = \\{1\\},\\; A_2 = \\{2\\},\\;A_3 = \\{3\\},\\;....\\;A_n = \\{n\\}$$\n",
    "\n",
    "**c)** Case 1: $A \\times B = B \\times A \\Rightarrow  A = B$ \\\n",
    "Case 2: $ A \\times B = B \\times A \\Rightarrow A = \\{\\}$ and $B = \\{\\} $\n",
    "\n",
    "if we are looking for non empty sets then, example: \n",
    "$$ A = \\{1,2,3\\} , B = \\{1,2,3\\} $$\n",
    "___\n",
    "\n",
    "\n",
    "\n",
    "\n"
   ]
  },
  {
   "cell_type": "markdown",
   "metadata": {},
   "source": [
    "### 5. Function Properties\n",
    "\n",
    "Plot each of the following functions from $\\mathbb{Z}$ to $\\mathbb{Z}$ over a representative subdomain (use points and not a line since the domain is $\\mathbb{Z}$). \n",
    "What is the range of each function? State which of them are injective, which are surjective, and which are bijective. \n",
    "For functions for which a given property holds, explain why. For functions for which the given property does not hold, give a counterexample.\n",
    "\n",
    "a) $f(n) = n-1$\n",
    "\n",
    "b) $f(n) = n^3$\n",
    "\n",
    "c) $f(n) = n^2 + 1$"
   ]
  },
  {
   "cell_type": "markdown",
   "metadata": {},
   "source": [
    "___\n",
    "### Answer to Question 5\n",
    " \n",
    "a) $f(n) = n-1$ \\\n",
    "Range : $-\\infty$  to  $\\infty$  \n",
    "Injective  : Yes \\\n",
    "Surjective : Yes \\\n",
    "Bijective  : Yes \n",
    "\n",
    "b) $f(n) = n^3$\\\n",
    "Range : $-\\infty$  to  $\\infty$ \\\n",
    "Injective  : Yes \\\n",
    "Surjective : Yes \\\n",
    "Bijective  : Yes \n",
    "\n",
    "c) $f(n) = n^2 + 1$ \\\n",
    "Range : 1 to $\\infty$ \\\n",
    "Injective  : No \\\n",
    "Surjective : No \\\n",
    "Bijective  : No \n",
    "Range is not equal to co-domain in this case.\\\n",
    "Counter example: if we change the co-domain to 1 to $\\infty$, function will become Surjective. \n",
    "if we change the domain to positive numbers (along with codomain 1 to $\\infty$), function will become bijective.\n",
    "___"
   ]
  },
  {
   "cell_type": "code",
   "execution_count": 3,
   "metadata": {},
   "outputs": [
    {
     "data": {
      "text/plain": [
       "Text(0.5, 1.0, '$f(x) = x^2 + 1$')"
      ]
     },
     "execution_count": 3,
     "metadata": {},
     "output_type": "execute_result"
    },
    {
     "data": {
      "image/png": "[encoded data removed]",
      "text/plain": [
       "<Figure size 1080x360 with 2 Axes>"
      ]
     },
     "metadata": {
      "needs_background": "light"
     },
     "output_type": "display_data"
    },
    {
     "data": {
      "image/png": "[encoded data removed]",
      "text/plain": [
       "<Figure size 1080x360 with 1 Axes>"
      ]
     },
     "metadata": {
      "needs_background": "light"
     },
     "output_type": "display_data"
    }
   ],
   "source": [
    "import matplotlib.pyplot as plt\n",
    "import numpy as np\n",
    "%matplotlib inline\n",
    "\n",
    "\n",
    "x = np.linspace(-500,500,1000)\n",
    "fig,ax = plt.subplots(1,2, figsize = (15,5))\n",
    "fig1,ax1 = plt.subplots(1,1, figsize = (15,5))\n",
    "\n",
    "#Defining first function from the question\n",
    "def F(x): \n",
    "    return x-1\n",
    "\n",
    "ax[0].plot(x,F(x), color = 'red')             #plot x-1 \n",
    "ax[0].set_title('$f(x) = x-1$')\n",
    "\n",
    "\n",
    "#Defining second function from the question\n",
    "def F1(x):\n",
    "    return x**3\n",
    "\n",
    "ax[1].plot(x,F1(x), color = 'green')          #plot x^3\n",
    "ax[1].set_title(\"$f(x) = x^3$\")\n",
    "\n",
    "\n",
    "#Defining third function from the question\n",
    "def F2(x): \n",
    "    return (x**2 + 1)\n",
    "\n",
    "ax1.plot(x,F2(x), color = 'blue')             #Plot x^2 + 1\n",
    "ax1.set_title(\"$f(x) = x^2 + 1$\")"
   ]
  },
  {
   "cell_type": "markdown",
   "metadata": {},
   "source": [
    "### 6. Composition\n",
    "\n",
    "a) Suppose that $f(x) = x^2 + 1$ and $g(x) = e^x$ are functions from $\\mathbb{R}$ into $\\mathbb{R}$. Find $f \\circ g$ and $g \\circ f$ and plot them in Python (on the same axis to compare).\n",
    "\n",
    "b) Suppose $f(x) = a x + b$ and $g(x) = c x + d$ are functions from $\\mathbb{R}$ into $\\mathbb{R}$. Find constants $a$, $b$, $c$ and $d$ such that $f \\circ g = g \\circ f$. "
   ]
  },
  {
   "cell_type": "code",
   "execution_count": 4,
   "metadata": {
    "scrolled": true
   },
   "outputs": [
    {
     "data": {
      "text/plain": [
       "<matplotlib.legend.Legend at 0x7f8322658c10>"
      ]
     },
     "execution_count": 4,
     "metadata": {},
     "output_type": "execute_result"
    },
    {
     "data": {
      "image/png": "[encoded data removed]",
      "text/plain": [
       "<Figure size 1008x504 with 1 Axes>"
      ]
     },
     "metadata": {
      "needs_background": "light"
     },
     "output_type": "display_data"
    }
   ],
   "source": [
    "import numpy as np\n",
    "import math \n",
    "from sympy import * \n",
    "init_printing(use_latex='mathjax')\n",
    "\n",
    "################################## Question 6 (a) ####################################\n",
    " \n",
    "def G(x):                              #declaration for Function G\n",
    "    return round(math.exp(x),3)\n",
    "\n",
    "#Declaration for Function F\n",
    "def F(x):                              #declaration for Function F\n",
    "    return x**2 + 1\n",
    "\n",
    "def compose(F, G):                     #composing the function to generate a composite function\n",
    "    return lambda x: F(G(x))\n",
    "\n",
    "domain = np.linspace(-1.5,1.5,1000)    #defining a domain for ploting the function\n",
    "\n",
    "FOG = compose(F,G)\n",
    "GOF = compose(G,F)\n",
    "\n",
    "fig,ax = plt.subplots(1,1,figsize = (14,7))\n",
    "ax.set_title(\"FOG and GOF\")\n",
    "count = 0 \n",
    "\n",
    "#ploting the function FOG and GOF\n",
    "for x in domain:\n",
    "    if count == 0:\n",
    "        ax.plot(x, FOG(x), \"o\",label = \"FOG\", color = 'red')\n",
    "        ax.plot(x, GOF(x), \"o\",label = \"GOF\", color = \"blue\")\n",
    "        count += 1 \n",
    "\n",
    "    elif count >= 1:\n",
    "        ax.plot(x, FOG(x), \"o\",color = 'red')\n",
    "        ax.plot(x, GOF(x), \"o\",color = \"blue\")\n",
    "\n",
    "fig.legend()\n"
   ]
  },
  {
   "cell_type": "markdown",
   "metadata": {},
   "source": [
    "### Question 6 (b) \n",
    "$F = ax + b $\\\n",
    "$G = cx + d $\n",
    "\n",
    "$FOG = acx + ad + b $\\\n",
    "$GOF = acx + bc + d $\n",
    "\n",
    "if $FOG = GOF$ \\\n",
    "$\\Rightarrow acx + ad + b = acx + bc + d $\\\n",
    "$\\Rightarrow ad + b = bc + d $\\\n",
    "$\\Rightarrow b(1-c) = d(1-a)$\n",
    "\n",
    "$\\Rightarrow \\frac {b}{1-a} = \\frac {d}{1-c} $\n",
    "\n",
    "Considering above, $a \\neq 1 \\;and\\; c \\neq 1$\n",
    "\n",
    "If we substitute $a = 2,\\;\\;\\; -b = \\frac{d}{1-c} \\; \\;\\;\\;...(i) $\n",
    "\n",
    "from $(i), \\;if \\;\\;c = 2,\\;\\; b = d  $\\\n",
    "$\\therefore a=c$ & $ b=d $\n",
    "\n",
    "we have $a = 2, b = 3, c = 2, d = 3$\n",
    "\n",
    "F = 2x + 3 \\\n",
    "G = 2x + 3\n",
    "\n",
    "\n",
    " "
   ]
  },
  {
   "cell_type": "markdown",
   "metadata": {},
   "source": [
    "### 7. Relations\n",
    "\n",
    "Define the relation $R$ on $\\mathbb{N} \\times \\mathbb{N}$ saying that $x \\; R\\; y$ if and only if the binary representations of $x$ and $y$ have the same number of ones. For example, $15 \\; R \\; 23$ since $15$ in binary is $1111$ and $23$ in binary is $10111$, which both have four ones. \n",
    "\n",
    "Show that $R$ is an equivalence relation.\n",
    " "
   ]
  },
  {
   "cell_type": "code",
   "execution_count": 5,
   "metadata": {},
   "outputs": [
    {
     "name": "stdout",
     "output_type": "stream",
     "text": [
      "are (15,23) related? :  True\n",
      "\n",
      "Reflexive:  True\n",
      "Transitive:  True\n",
      "Symmetric:  True\n",
      "\n",
      "Given relation R is Equivalence\n"
     ]
    }
   ],
   "source": [
    "def Dec2Bin(x):\n",
    "    \"\"\"\n",
    "    Function to convert decimal to binary.\n",
    "    output is list containing bianry representation. \n",
    "    \n",
    "    index 0 will have most significant digit of the bianry representation. \n",
    "    \"\"\"\n",
    "    if x == 0: return [0]       #if number is 0, return 0.\n",
    "    y = []                      #declare a empty list, this will be used to append the respective values. \n",
    "    while x:\n",
    "        y.append(x%2)\n",
    "        x >>= 1\n",
    "    return y[::-1]              #reversing the list to maintain the most significant bit at index \"0\"\n",
    "\n",
    "def countOne(L): \n",
    "    \"\"\"\n",
    "    counts number of 1 in a list. \n",
    "    this function assumes that entry is list of 0 and 1. \n",
    "    However in any condition if list element is 1, it will count and return.   \n",
    "    \"\"\"\n",
    "    N = 0\n",
    "    for i in range(len(L)):\n",
    "        if L[i] == 1:\n",
    "            N += 1\n",
    "    return N \n",
    "\n",
    "n=100          #this will limit the range of x and y to 1 to 99. to check for relations  \n",
    "               #beyond that please update the value of n\n",
    "\n",
    "R = {(x,y) for x in range(1,n) for y in range (1,n) if countOne(Dec2Bin(x)) == countOne(Dec2Bin(y)) }\n",
    "\n",
    "#checking for the values of x and y, x =15, y = 23\n",
    "print (\"are (15,23) related? : \", (15,23) in R)\n",
    "\n",
    "#####################################################################################\n",
    "# a relation is equivalence if it is symmetric, transitive and reflexive \n",
    "\n",
    "# defining a function to check a pair of numbers are transitive.\n",
    "def transitive(R):\n",
    "    for a,b in R:\n",
    "        for c,d in R:\n",
    "            if b==c and (a,d) not in R:\n",
    "                return False\n",
    "    return True\n",
    "\n",
    "#defining a function to check symmetricity of a relation\n",
    "def symmetric(R):\n",
    "    for a,b in R:\n",
    "        for c,d in R: \n",
    "            if b==c and a==d:\n",
    "                return True \n",
    "    return False\n",
    "    \n",
    "def reflexive(R): \n",
    "    for a,b in R:\n",
    "        if a==b and (a,b) not in R:\n",
    "            return False\n",
    "    return True\n",
    "\n",
    "T = transitive(R)\n",
    "S = symmetric(R)\n",
    "Ref = reflexive(R)\n",
    "\n",
    "if (T ==True and S == True and Ref == True):\n",
    "    print(\"\\nReflexive: \", Ref)\n",
    "    print(\"Transitive: \", T)\n",
    "    print(\"Symmetric: \", S)\n",
    "    print(\"\\nGiven relation R is Equivalence\")"
   ]
  },
  {
   "cell_type": "markdown",
   "metadata": {},
   "source": [
    "### 8. Sets, Functions, and Relations in Python\n",
    "\n",
    "Express each of the following objects in Python.\n",
    "\n",
    "a) The set of $P$ prime numbers less than 100. \n",
    "\n",
    "b) The function $f: \\{1,2,3,4,5,6\\} \\rightarrow \\{0,1\\}$ in which $f(x) = 0$ if $x$ is even and $f(x)=1$ if $x$ is odd, expressed as a dictionary."
   ]
  },
  {
   "cell_type": "code",
   "execution_count": 8,
   "metadata": {},
   "outputs": [
    {
     "name": "stdout",
     "output_type": "stream",
     "text": [
      "Prime numbers less than 100 are:  {2, 3, 5, 7, 11, 13, 17, 19, 23, 29, 31, 37, 41, 43, 47, 53, 59, 61, 67, 71, 73, 79, 83, 89, 97}\n",
      "\n",
      "Here goes the function:  {1: 1, 2: 0, 3: 1, 4: 0, 5: 1, 6: 0}\n"
     ]
    },
    {
     "data": {
      "text/latex": [
       "$\\displaystyle 1$"
      ],
      "text/plain": [
       "1"
      ]
     },
     "execution_count": 8,
     "metadata": {},
     "output_type": "execute_result"
    }
   ],
   "source": [
    "#declare a function to check if a given number is prime \n",
    "\n",
    "def isPrime(n,i=2):                #input arguments are n = number and i = index for recursion\n",
    "    if (n == 1 or n == 0):         #returns False if input number is 0 or 1\n",
    "        False \n",
    "    \n",
    "    if ( n == i):                 #if the number is 2 it return true\n",
    "        return True\n",
    "    \n",
    "    if (n%i == 0):              #for numbers > 2 dividing with all the numbers till it get 0. \n",
    "        return False \n",
    "    \n",
    "    i = i+1\n",
    "    return isPrime(n,i)\n",
    "\n",
    "n = 100                           #it doesnot include 100, hence will consider numbers less than 100. \n",
    "\n",
    "R = {(x) for x in range (2,n) if isPrime(x,2) == True}\n",
    "print(\"Prime numbers less than %d are: \" %n,R)\n",
    "\n",
    "############################# Part 2 #################\n",
    "\n",
    "#### Declare a general function to generate a dictionary in which even place has value = 0 and odd has value = 1\n",
    "def funcMap(n):\n",
    "    \"\"\"\n",
    "    it returns a dictionary with key starting with 1 to n. \n",
    "    if key is odd, value will be 0\n",
    "    if key is even, value will be 1\n",
    "    it will return dictionary with n elements. \n",
    "    \"\"\"\n",
    "    n = n + 1\n",
    "    F = {}             #declare and empty dictionary \n",
    "    for i in range (1,n):\n",
    "        F[i] = i%2\n",
    "    return F\n",
    "\n",
    "# function call for key 1 to 6. \n",
    "FofX = funcMap(6) \n",
    "print(\"\\nHere goes the function: \",FofX)\n",
    "FofX[5]"
   ]
  },
  {
   "cell_type": "code",
   "execution_count": null,
   "metadata": {},
   "outputs": [],
   "source": []
  }
 ],
 "metadata": {
  "kernelspec": {
   "display_name": "Python 3 (ipykernel)",
   "language": "python",
   "name": "python3"
  },
  "language_info": {
   "codemirror_mode": {
    "name": "ipython",
    "version": 3
   },
   "file_extension": ".py",
   "mimetype": "text/x-python",
   "name": "python",
   "nbconvert_exporter": "python",
   "pygments_lexer": "ipython3",
   "version": "3.8.8"
  }
 },
 "nbformat": 4,
 "nbformat_minor": 2
}
